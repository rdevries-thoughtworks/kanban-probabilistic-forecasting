{
 "cells": [
  {
   "cell_type": "code",
   "execution_count": null,
   "id": "affected-submission",
   "metadata": {},
   "outputs": [],
   "source": [
    "import numpy as np\n",
    "import pandas as pd\n",
    "import matplotlib.pyplot as plt\n",
    "import pymc3 as pm\n",
    "import arviz as az\n",
    "\n",
    "az.style.use(\"arviz-darkgrid\")"
   ]
  },
  {
   "cell_type": "markdown",
   "id": "indian-religion",
   "metadata": {},
   "source": [
    "## Change these constants to personalize your results"
   ]
  },
  {
   "cell_type": "code",
   "execution_count": null,
   "id": "demonstrated-camcorder",
   "metadata": {},
   "outputs": [],
   "source": [
    "NROF_SAMPLES = 1000  # ... to take for probability distributions\n",
    "NROF_SAMPLE_LINES = 50  # ... to plot for probability distributions\n",
    "NROF_DAYS = 400  # ... to calculate the expected number of stories for\n",
    "NROF_STORIES = 100  # ... to calculate the expected number of days for\n",
    "QUANTILES = np.array([5, 10, 20, 30, 50])  # ... to show the probability of"
   ]
  },
  {
   "cell_type": "markdown",
   "id": "qualified-crest",
   "metadata": {},
   "source": [
    "## Historical data"
   ]
  },
  {
   "cell_type": "code",
   "execution_count": null,
   "id": "curious-messaging",
   "metadata": {},
   "outputs": [],
   "source": [
    "df = pd.read_csv('data.csv', usecols=['Done'], parse_dates=['Done']).dropna()\n",
    "df = df.rename(columns={\"Done\": \"Date\"}).set_index(\"Date\").assign(Stories=1)\n",
    "df = df.resample(\"D\").count()\n",
    "df.head()"
   ]
  },
  {
   "cell_type": "code",
   "execution_count": null,
   "id": "numerous-literacy",
   "metadata": {},
   "outputs": [],
   "source": [
    "def plot_burn_up():\n",
    "    _, ax = plt.subplots()\n",
    "    ax.plot(df.index, df.cumsum().Stories)\n",
    "    ax.set_title(\"Burn-up\")\n",
    "    ax.set_xlabel(\"Date\")\n",
    "    ax.set_ylabel(\"Stories\")\n",
    "    return ax"
   ]
  },
  {
   "cell_type": "code",
   "execution_count": null,
   "id": "polyphonic-individual",
   "metadata": {},
   "outputs": [],
   "source": [
    "ax = plot_burn_up()"
   ]
  },
  {
   "cell_type": "markdown",
   "id": "solid-scottish",
   "metadata": {},
   "source": [
    "## The model"
   ]
  },
  {
   "cell_type": "code",
   "execution_count": null,
   "id": "geographic-uncle",
   "metadata": {},
   "outputs": [],
   "source": [
    "with pm.Model() as m:\n",
    "    pm.Data(\"count_data\", df.Stories)\n",
    "    pm.Lognormal(\"mu\", mu=0, sigma=1)\n",
    "    pm.Poisson(\"count\", mu=m.mu, observed=m.count_data)"
   ]
  },
  {
   "cell_type": "markdown",
   "id": "polyphonic-adolescent",
   "metadata": {},
   "source": [
    "## Evaluate the model\n",
    "\n",
    "What would the model expect based on the priors?"
   ]
  },
  {
   "cell_type": "code",
   "execution_count": null,
   "id": "reduced-former",
   "metadata": {},
   "outputs": [],
   "source": [
    "with m:\n",
    "    prior_pc = pm.sample_prior_predictive(NROF_SAMPLES)"
   ]
  },
  {
   "cell_type": "code",
   "execution_count": null,
   "id": "dangerous-tackle",
   "metadata": {},
   "outputs": [],
   "source": [
    "def plot_stories_per_day(*, prior=None, posterior_predictive=None, group=\"posterior\"):\n",
    "    ax = az.plot_ppc(az.from_pymc3(prior=prior_pc, model=m), group=\"prior\", num_pp_samples=NROF_SAMPLE_LINES)\n",
    "    ax.set_xlabel(\"Stories per Day\")\n",
    "    ax.set_ylabel(\"Probability\")\n",
    "    return ax"
   ]
  },
  {
   "cell_type": "code",
   "execution_count": null,
   "id": "north-method",
   "metadata": {},
   "outputs": [],
   "source": [
    "ax = plot_stories_per_day(prior=prior_pc, group=\"prior\")\n",
    "ax.set_title(\"Expected stories per day before seeing any data\")\n",
    "None"
   ]
  },
  {
   "cell_type": "code",
   "execution_count": null,
   "id": "living-campbell",
   "metadata": {},
   "outputs": [],
   "source": [
    "def plot_burn_up_ppc(ppc):\n",
    "    ax = plot_burn_up()\n",
    "    ax.plot(df.index, ppc[\"count\"][:NROF_SAMPLE_LINES,:].T.cumsum(axis=0), color=\"black\", alpha=.1)\n",
    "    return ax"
   ]
  },
  {
   "cell_type": "code",
   "execution_count": null,
   "id": "blond-crack",
   "metadata": {},
   "outputs": [],
   "source": [
    "ax = plot_burn_up_ppc(prior_pc)\n",
    "ax.set_title(\"Expected burn-up before seeing any data\")\n",
    "None"
   ]
  },
  {
   "cell_type": "markdown",
   "id": "synthetic-machine",
   "metadata": {},
   "source": [
    "## Inferencing\n",
    "\n",
    "Update the priors based on the data we've seen."
   ]
  },
  {
   "cell_type": "code",
   "execution_count": null,
   "id": "posted-beijing",
   "metadata": {},
   "outputs": [],
   "source": [
    "with m:\n",
    "    idata = pm.sample(return_inferencedata=True)"
   ]
  },
  {
   "cell_type": "markdown",
   "id": "increasing-mandate",
   "metadata": {},
   "source": [
    "## Visualize posterior\n",
    "\n",
    "Compare the trained model with the observed data."
   ]
  },
  {
   "cell_type": "code",
   "execution_count": null,
   "id": "dutch-preserve",
   "metadata": {},
   "outputs": [],
   "source": [
    "with m:\n",
    "    post_pc = pm.sample_posterior_predictive(idata, NROF_SAMPLES)"
   ]
  },
  {
   "cell_type": "code",
   "execution_count": null,
   "id": "beginning-drama",
   "metadata": {},
   "outputs": [],
   "source": [
    "ax = plot_stories_per_day(prior=post_pc)\n",
    "ax.set_title(\"Expected stories per day after seeing any data\")\n",
    "None"
   ]
  },
  {
   "cell_type": "code",
   "execution_count": null,
   "id": "spiritual-charles",
   "metadata": {},
   "outputs": [],
   "source": [
    "ax = plot_burn_up_ppc(post_pc)\n",
    "ax.set_title(\"Expected burn-up after seeing the data\")\n",
    "None"
   ]
  },
  {
   "cell_type": "markdown",
   "id": "legislative-dependence",
   "metadata": {},
   "source": [
    "## Predictions"
   ]
  },
  {
   "cell_type": "code",
   "execution_count": null,
   "id": "mighty-tender",
   "metadata": {},
   "outputs": [],
   "source": [
    "with m:\n",
    "    pm.set_data({\n",
    "        \"count_data\": np.zeros(NROF_DAYS, dtype=int),  # generate data for the 100 days to come\n",
    "    })\n",
    "    post_pred = pm.sample_posterior_predictive(idata, NROF_SAMPLES)"
   ]
  },
  {
   "cell_type": "code",
   "execution_count": null,
   "id": "adjusted-belize",
   "metadata": {},
   "outputs": [],
   "source": [
    "def plot_expected_burn_up():\n",
    "    _, ax = plt.subplots()\n",
    "    ax.plot(np.arange(NROF_DAYS),\n",
    "            post_pred[\"count\"][:NROF_SAMPLE_LINES,:].T.cumsum(axis=0),\n",
    "            color=\"black\", alpha=.1)\n",
    "    ax.set_title(\"Expected burn-up for future stories\")\n",
    "    ax.set_xlabel(\"Days\")\n",
    "    ax.set_ylabel(\"Stories\")\n",
    "    return ax"
   ]
  },
  {
   "cell_type": "code",
   "execution_count": null,
   "id": "empty-latin",
   "metadata": {},
   "outputs": [],
   "source": [
    "ax = plot_expected_burn_up()"
   ]
  },
  {
   "cell_type": "markdown",
   "id": "challenging-russia",
   "metadata": {},
   "source": [
    "## How many stories will be done in X days?"
   ]
  },
  {
   "cell_type": "code",
   "execution_count": null,
   "id": "enclosed-programmer",
   "metadata": {},
   "outputs": [],
   "source": [
    "ax = plot_expected_burn_up()\n",
    "ax.axvline(NROF_DAYS)\n",
    "None"
   ]
  },
  {
   "cell_type": "code",
   "execution_count": null,
   "id": "centered-society",
   "metadata": {},
   "outputs": [],
   "source": [
    "stories_samples = post_pred[\"count\"].cumsum(axis=1)[:,NROF_DAYS-1]  # of how many stories done"
   ]
  },
  {
   "cell_type": "code",
   "execution_count": null,
   "id": "mounted-poverty",
   "metadata": {},
   "outputs": [],
   "source": [
    "def plot_prediction(samples):\n",
    "    ax = az.plot_kde(samples, quantiles=QUANTILES/100)\n",
    "    ax.set_ylabel(\"Probability\")\n",
    "    return ax"
   ]
  },
  {
   "cell_type": "code",
   "execution_count": null,
   "id": "serious-crown",
   "metadata": {},
   "outputs": [],
   "source": [
    "ax = plot_prediction(stories_samples)\n",
    "ax.set_title(\"Predicted number of stories\")\n",
    "ax.set_xlabel(\"Stories\")\n",
    "None"
   ]
  },
  {
   "cell_type": "code",
   "execution_count": null,
   "id": "cardiovascular-holocaust",
   "metadata": {},
   "outputs": [],
   "source": [
    "def get_quantiles(name, samples):\n",
    "    return pd.DataFrame({name: np.percentile(samples, QUANTILES).astype(int)},\n",
    "                        index=[f\"{100 - q}%\" for q in QUANTILES])"
   ]
  },
  {
   "cell_type": "code",
   "execution_count": null,
   "id": "tight-secretariat",
   "metadata": {},
   "outputs": [],
   "source": [
    "get_quantiles(\"stories\", stories_samples)"
   ]
  },
  {
   "cell_type": "markdown",
   "id": "detailed-folks",
   "metadata": {},
   "source": [
    "## How many days will be needed for X stories?"
   ]
  },
  {
   "cell_type": "code",
   "execution_count": null,
   "id": "twelve-cherry",
   "metadata": {},
   "outputs": [],
   "source": [
    "ax = plot_expected_burn_up()\n",
    "ax.axhline(NROF_STORIES)\n",
    "None"
   ]
  },
  {
   "cell_type": "code",
   "execution_count": null,
   "id": "miniature-wealth",
   "metadata": {},
   "outputs": [],
   "source": [
    "days_samples = (post_pred[\"count\"].cumsum(axis=1) < NROF_STORIES).sum(axis=1) + 1  # of nrof days until the stories are done\n",
    "assert np.all(days_samples <= NROF_DAYS), f\"Some scenarios need more than {NROF_DAYS} days\""
   ]
  },
  {
   "cell_type": "code",
   "execution_count": null,
   "id": "current-columbus",
   "metadata": {},
   "outputs": [],
   "source": [
    "ax = plot_prediction(days_samples)\n",
    "ax.set_title(\"Predicted number of days\")\n",
    "ax.set_xlabel(\"Days\")\n",
    "None"
   ]
  },
  {
   "cell_type": "code",
   "execution_count": null,
   "id": "african-shield",
   "metadata": {},
   "outputs": [],
   "source": [
    "get_quantiles(\"days\", days_samples)"
   ]
  }
 ],
 "metadata": {
  "jupytext": {
   "cell_metadata_filter": "-all",
   "main_language": "python",
   "notebook_metadata_filter": "-all"
  }
 },
 "nbformat": 4,
 "nbformat_minor": 5
}
